{
 "cells": [
  {
   "cell_type": "code",
   "execution_count": 1,
   "id": "8f04b727",
   "metadata": {},
   "outputs": [],
   "source": [
    "import numpy as np\n",
    "import cv2"
   ]
  },
  {
   "cell_type": "code",
   "execution_count": 2,
   "id": "4f9f5927",
   "metadata": {},
   "outputs": [],
   "source": [
    "# HSV_Values = [[4, 203, 175, 35, 255, 255],\n",
    "#              [0, 155, 170, 178, 255, 255],\n",
    "#              [132, 93, 104, 146, 180, 255]]\n",
    "\n",
    "HSV_Values = [[0, 141, 175, 46, 255, 255],\n",
    "             [0, 102, 170, 13, 255, 255],\n",
    "             [132, 93, 104, 146, 180, 255]]\n",
    "\n",
    "RGB_Values = [[50, 234, 255], \n",
    "             [51, 51, 255],\n",
    "             [164, 63, 146]]\n",
    "\n",
    "list_points = []"
   ]
  },
  {
   "cell_type": "code",
   "execution_count": 3,
   "id": "13d18a98",
   "metadata": {},
   "outputs": [],
   "source": [
    "def cont(mask):\n",
    "    \n",
    "    contours, hierarchy = cv2.findContours(mask, cv2.RETR_EXTERNAL, cv2.CHAIN_APPROX_NONE)\n",
    "    x,y,w,h = 0,0,0,0\n",
    "    \n",
    "    for cnt in contours:\n",
    "        area = cv2.contourArea(cnt)\n",
    "        \n",
    "        if area>500:\n",
    "            peri = cv2.arcLength(cnt,True)\n",
    "            approx = cv2.approxPolyDP(cnt,0.02*peri,True)\n",
    "            x, y, w, h = cv2.boundingRect(approx)\n",
    "            \n",
    "    return x+w//2,y"
   ]
  },
  {
   "cell_type": "code",
   "execution_count": 4,
   "id": "e5d4d26c",
   "metadata": {},
   "outputs": [],
   "source": [
    "def maskImg(image, HSV_Values, RGB_Values):\n",
    "    \n",
    "    imageHSV = cv2.cvtColor(image, cv2.COLOR_BGR2HSV)\n",
    "    temp_list = []\n",
    "    count = 0\n",
    "    \n",
    "    for i in HSV_Values:\n",
    "        lower = np.array(i[:3])\n",
    "        upper = np.array(i[3:])\n",
    "        mask = cv2.inRange(imageHSV, lower, upper)\n",
    "\n",
    "        x, y = cont(mask)\n",
    "        cv2.circle(result, (x, y),10, RGB_Values[count], cv2.FILLED)\n",
    "        \n",
    "        if x != 0 and y != 0:\n",
    "            temp_list.append([x, y, count])\n",
    "            \n",
    "        count += 1\n",
    "    return temp_list\n",
    "            "
   ]
  },
  {
   "cell_type": "code",
   "execution_count": 5,
   "id": "335e49fd",
   "metadata": {},
   "outputs": [],
   "source": [
    "def final_draw(list_points, RGB_Values):\n",
    "    \n",
    "    for j in list_points:\n",
    "        cv2.circle(result, (j[0], j[1]),10, RGB_Values[j[2]], cv2.FILLED)"
   ]
  },
  {
   "cell_type": "code",
   "execution_count": 6,
   "id": "a8a95474",
   "metadata": {},
   "outputs": [],
   "source": [
    "cap = cv2.VideoCapture(0)\n",
    "\n",
    "while True:\n",
    "    ret, image = cap.read()\n",
    "    result = image.copy()\n",
    "    temp_list = maskImg(image, HSV_Values, RGB_Values)\n",
    "    \n",
    "    if len(temp_list) != 0:\n",
    "        for k in temp_list:\n",
    "            list_points.append(k)\n",
    "            \n",
    "    if len(list_points) != 0:\n",
    "        final_draw(list_points, RGB_Values)\n",
    "        \n",
    "    \n",
    "    cv2.imshow(\"Image\", result)\n",
    "    if cv2.waitKey(1) & 0xFF == ord('q'):\n",
    "        break\n",
    "        \n",
    "cap.release()\n",
    "cv2.destroyAllWindows()"
   ]
  }
 ],
 "metadata": {
  "kernelspec": {
   "display_name": "Python 3",
   "language": "python",
   "name": "python3"
  },
  "language_info": {
   "codemirror_mode": {
    "name": "ipython",
    "version": 3
   },
   "file_extension": ".py",
   "mimetype": "text/x-python",
   "name": "python",
   "nbconvert_exporter": "python",
   "pygments_lexer": "ipython3",
   "version": "3.7.4"
  }
 },
 "nbformat": 4,
 "nbformat_minor": 5
}
